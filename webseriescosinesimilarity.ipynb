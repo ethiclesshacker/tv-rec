{
 "cells": [
  {
   "cell_type": "code",
   "execution_count": 2,
   "metadata": {},
   "outputs": [],
   "source": [
    "import pandas as pd\n",
    "import numpy as np\n",
    "from sklearn.metrics.pairwise import cosine_similarity\n",
    "from sklearn.feature_extraction.text import CountVectorizer\n",
    "pd.options.mode.chained_assignment = None"
   ]
  },
  {
   "cell_type": "code",
   "execution_count": 3,
   "metadata": {},
   "outputs": [],
   "source": [
    "df = pd.read_table(\"tvs-data.tsv\",usecols=['primaryTitle','genres'])\n",
    "df = df[df[\"genres\"]!=\"\\\\N\"]"
   ]
  },
  {
   "cell_type": "code",
   "execution_count": 4,
   "metadata": {},
   "outputs": [
    {
     "output_type": "execute_result",
     "data": {
      "text/plain": [
       "                        primaryTitle                   genres\n",
       "0                   The Green Archer   Action,Adventure,Crime\n",
       "2           The German Weekly Review         Documentary,News\n",
       "3                  You Are an Artist                Talk-Show\n",
       "4                          Americana         Family,Game-Show\n",
       "5                     Birthday Party                   Family\n",
       "...                              ...                      ...\n",
       "208165                         Nojor                  Fantasy\n",
       "208167  Kalyanam Mudhal Kadhal Varai                  Romance\n",
       "208168                  Lost in Food                Talk-Show\n",
       "208169           Meie aasta Aafrikas  Adventure,Comedy,Family\n",
       "208170                    Acelerados                   Comedy\n",
       "\n",
       "[190023 rows x 2 columns]"
      ],
      "text/html": "<div>\n<style scoped>\n    .dataframe tbody tr th:only-of-type {\n        vertical-align: middle;\n    }\n\n    .dataframe tbody tr th {\n        vertical-align: top;\n    }\n\n    .dataframe thead th {\n        text-align: right;\n    }\n</style>\n<table border=\"1\" class=\"dataframe\">\n  <thead>\n    <tr style=\"text-align: right;\">\n      <th></th>\n      <th>primaryTitle</th>\n      <th>genres</th>\n    </tr>\n  </thead>\n  <tbody>\n    <tr>\n      <th>0</th>\n      <td>The Green Archer</td>\n      <td>Action,Adventure,Crime</td>\n    </tr>\n    <tr>\n      <th>2</th>\n      <td>The German Weekly Review</td>\n      <td>Documentary,News</td>\n    </tr>\n    <tr>\n      <th>3</th>\n      <td>You Are an Artist</td>\n      <td>Talk-Show</td>\n    </tr>\n    <tr>\n      <th>4</th>\n      <td>Americana</td>\n      <td>Family,Game-Show</td>\n    </tr>\n    <tr>\n      <th>5</th>\n      <td>Birthday Party</td>\n      <td>Family</td>\n    </tr>\n    <tr>\n      <th>...</th>\n      <td>...</td>\n      <td>...</td>\n    </tr>\n    <tr>\n      <th>208165</th>\n      <td>Nojor</td>\n      <td>Fantasy</td>\n    </tr>\n    <tr>\n      <th>208167</th>\n      <td>Kalyanam Mudhal Kadhal Varai</td>\n      <td>Romance</td>\n    </tr>\n    <tr>\n      <th>208168</th>\n      <td>Lost in Food</td>\n      <td>Talk-Show</td>\n    </tr>\n    <tr>\n      <th>208169</th>\n      <td>Meie aasta Aafrikas</td>\n      <td>Adventure,Comedy,Family</td>\n    </tr>\n    <tr>\n      <th>208170</th>\n      <td>Acelerados</td>\n      <td>Comedy</td>\n    </tr>\n  </tbody>\n</table>\n<p>190023 rows × 2 columns</p>\n</div>"
     },
     "metadata": {},
     "execution_count": 4
    }
   ],
   "source": [
    "df"
   ]
  },
  {
   "cell_type": "code",
   "execution_count": 5,
   "metadata": {},
   "outputs": [],
   "source": [
    "df['genres'] = df['genres'].map(lambda x : x.lower().split(','))"
   ]
  },
  {
   "cell_type": "code",
   "execution_count": 6,
   "metadata": {},
   "outputs": [],
   "source": [
    "df = df.iloc[0:40000, :]"
   ]
  },
  {
   "cell_type": "code",
   "execution_count": 7,
   "metadata": {},
   "outputs": [
    {
     "output_type": "execute_result",
     "data": {
      "text/plain": [
       "                                              genres\n",
       "primaryTitle                                        \n",
       "The Green Archer          [action, adventure, crime]\n",
       "The German Weekly Review         [documentary, news]\n",
       "You Are an Artist                        [talk-show]\n",
       "Americana                        [family, game-show]\n",
       "Birthday Party                              [family]"
      ],
      "text/html": "<div>\n<style scoped>\n    .dataframe tbody tr th:only-of-type {\n        vertical-align: middle;\n    }\n\n    .dataframe tbody tr th {\n        vertical-align: top;\n    }\n\n    .dataframe thead th {\n        text-align: right;\n    }\n</style>\n<table border=\"1\" class=\"dataframe\">\n  <thead>\n    <tr style=\"text-align: right;\">\n      <th></th>\n      <th>genres</th>\n    </tr>\n    <tr>\n      <th>primaryTitle</th>\n      <th></th>\n    </tr>\n  </thead>\n  <tbody>\n    <tr>\n      <th>The Green Archer</th>\n      <td>[action, adventure, crime]</td>\n    </tr>\n    <tr>\n      <th>The German Weekly Review</th>\n      <td>[documentary, news]</td>\n    </tr>\n    <tr>\n      <th>You Are an Artist</th>\n      <td>[talk-show]</td>\n    </tr>\n    <tr>\n      <th>Americana</th>\n      <td>[family, game-show]</td>\n    </tr>\n    <tr>\n      <th>Birthday Party</th>\n      <td>[family]</td>\n    </tr>\n  </tbody>\n</table>\n</div>"
     },
     "metadata": {},
     "execution_count": 7
    }
   ],
   "source": [
    "df.set_index('primaryTitle',inplace = True)\n",
    "df.head()"
   ]
  },
  {
   "cell_type": "code",
   "execution_count": 8,
   "metadata": {},
   "outputs": [],
   "source": [
    "df['genre list'] = ''\n",
    "columns = df.columns\n",
    "for index, row in df.iterrows():\n",
    "    words = ''\n",
    "    for col in columns:\n",
    "        words = words + ' '.join(row[col])+ ' '\n",
    "    row['genre list'] = words"
   ]
  },
  {
   "cell_type": "code",
   "execution_count": 9,
   "metadata": {},
   "outputs": [
    {
     "output_type": "execute_result",
     "data": {
      "text/plain": [
       "                                                   genres  \\\n",
       "primaryTitle                                                \n",
       "The Green Archer               [action, adventure, crime]   \n",
       "The German Weekly Review              [documentary, news]   \n",
       "You Are an Artist                             [talk-show]   \n",
       "Americana                             [family, game-show]   \n",
       "Birthday Party                                   [family]   \n",
       "...                                                   ...   \n",
       "Amethyst                                         [family]   \n",
       "The legacy of Adam                            [animation]   \n",
       "PBC Face to Face                                  [sport]   \n",
       "PBC Countdown                                     [sport]   \n",
       "Hot Wheels Challenge Accepted   [game-show, short, sport]   \n",
       "\n",
       "                                             genre list  \n",
       "primaryTitle                                             \n",
       "The Green Archer               action adventure crime    \n",
       "The German Weekly Review             documentary news    \n",
       "You Are an Artist                           talk-show    \n",
       "Americana                            family game-show    \n",
       "Birthday Party                                 family    \n",
       "...                                                 ...  \n",
       "Amethyst                                       family    \n",
       "The legacy of Adam                          animation    \n",
       "PBC Face to Face                                sport    \n",
       "PBC Countdown                                   sport    \n",
       "Hot Wheels Challenge Accepted   game-show short sport    \n",
       "\n",
       "[40000 rows x 2 columns]"
      ],
      "text/html": "<div>\n<style scoped>\n    .dataframe tbody tr th:only-of-type {\n        vertical-align: middle;\n    }\n\n    .dataframe tbody tr th {\n        vertical-align: top;\n    }\n\n    .dataframe thead th {\n        text-align: right;\n    }\n</style>\n<table border=\"1\" class=\"dataframe\">\n  <thead>\n    <tr style=\"text-align: right;\">\n      <th></th>\n      <th>genres</th>\n      <th>genre list</th>\n    </tr>\n    <tr>\n      <th>primaryTitle</th>\n      <th></th>\n      <th></th>\n    </tr>\n  </thead>\n  <tbody>\n    <tr>\n      <th>The Green Archer</th>\n      <td>[action, adventure, crime]</td>\n      <td>action adventure crime</td>\n    </tr>\n    <tr>\n      <th>The German Weekly Review</th>\n      <td>[documentary, news]</td>\n      <td>documentary news</td>\n    </tr>\n    <tr>\n      <th>You Are an Artist</th>\n      <td>[talk-show]</td>\n      <td>talk-show</td>\n    </tr>\n    <tr>\n      <th>Americana</th>\n      <td>[family, game-show]</td>\n      <td>family game-show</td>\n    </tr>\n    <tr>\n      <th>Birthday Party</th>\n      <td>[family]</td>\n      <td>family</td>\n    </tr>\n    <tr>\n      <th>...</th>\n      <td>...</td>\n      <td>...</td>\n    </tr>\n    <tr>\n      <th>Amethyst</th>\n      <td>[family]</td>\n      <td>family</td>\n    </tr>\n    <tr>\n      <th>The legacy of Adam</th>\n      <td>[animation]</td>\n      <td>animation</td>\n    </tr>\n    <tr>\n      <th>PBC Face to Face</th>\n      <td>[sport]</td>\n      <td>sport</td>\n    </tr>\n    <tr>\n      <th>PBC Countdown</th>\n      <td>[sport]</td>\n      <td>sport</td>\n    </tr>\n    <tr>\n      <th>Hot Wheels Challenge Accepted</th>\n      <td>[game-show, short, sport]</td>\n      <td>game-show short sport</td>\n    </tr>\n  </tbody>\n</table>\n<p>40000 rows × 2 columns</p>\n</div>"
     },
     "metadata": {},
     "execution_count": 9
    }
   ],
   "source": [
    "df"
   ]
  },
  {
   "cell_type": "code",
   "execution_count": 10,
   "metadata": {},
   "outputs": [],
   "source": [
    "df.drop(columns = [col for col in df.columns if col!= 'genre list'], inplace = True)"
   ]
  },
  {
   "cell_type": "code",
   "execution_count": 11,
   "metadata": {},
   "outputs": [
    {
     "output_type": "execute_result",
     "data": {
      "text/plain": [
       "                        primaryTitle                genre list\n",
       "0                   The Green Archer  action adventure crime  \n",
       "1           The German Weekly Review        documentary news  \n",
       "2                  You Are an Artist               talk-show  \n",
       "3                          Americana        family game-show  \n",
       "4                     Birthday Party                  family  \n",
       "...                              ...                       ...\n",
       "39995                       Amethyst                  family  \n",
       "39996             The legacy of Adam               animation  \n",
       "39997               PBC Face to Face                   sport  \n",
       "39998                  PBC Countdown                   sport  \n",
       "39999  Hot Wheels Challenge Accepted   game-show short sport  \n",
       "\n",
       "[40000 rows x 2 columns]"
      ],
      "text/html": "<div>\n<style scoped>\n    .dataframe tbody tr th:only-of-type {\n        vertical-align: middle;\n    }\n\n    .dataframe tbody tr th {\n        vertical-align: top;\n    }\n\n    .dataframe thead th {\n        text-align: right;\n    }\n</style>\n<table border=\"1\" class=\"dataframe\">\n  <thead>\n    <tr style=\"text-align: right;\">\n      <th></th>\n      <th>primaryTitle</th>\n      <th>genre list</th>\n    </tr>\n  </thead>\n  <tbody>\n    <tr>\n      <th>0</th>\n      <td>The Green Archer</td>\n      <td>action adventure crime</td>\n    </tr>\n    <tr>\n      <th>1</th>\n      <td>The German Weekly Review</td>\n      <td>documentary news</td>\n    </tr>\n    <tr>\n      <th>2</th>\n      <td>You Are an Artist</td>\n      <td>talk-show</td>\n    </tr>\n    <tr>\n      <th>3</th>\n      <td>Americana</td>\n      <td>family game-show</td>\n    </tr>\n    <tr>\n      <th>4</th>\n      <td>Birthday Party</td>\n      <td>family</td>\n    </tr>\n    <tr>\n      <th>...</th>\n      <td>...</td>\n      <td>...</td>\n    </tr>\n    <tr>\n      <th>39995</th>\n      <td>Amethyst</td>\n      <td>family</td>\n    </tr>\n    <tr>\n      <th>39996</th>\n      <td>The legacy of Adam</td>\n      <td>animation</td>\n    </tr>\n    <tr>\n      <th>39997</th>\n      <td>PBC Face to Face</td>\n      <td>sport</td>\n    </tr>\n    <tr>\n      <th>39998</th>\n      <td>PBC Countdown</td>\n      <td>sport</td>\n    </tr>\n    <tr>\n      <th>39999</th>\n      <td>Hot Wheels Challenge Accepted</td>\n      <td>game-show short sport</td>\n    </tr>\n  </tbody>\n</table>\n<p>40000 rows × 2 columns</p>\n</div>"
     },
     "metadata": {},
     "execution_count": 11
    }
   ],
   "source": [
    "df.reset_index()"
   ]
  },
  {
   "cell_type": "code",
   "execution_count": 11,
   "metadata": {},
   "outputs": [],
   "source": [
    "count = CountVectorizer()\n",
    "count_matrix = count.fit_transform(df['genre list'])"
   ]
  },
  {
   "cell_type": "code",
   "execution_count": 12,
   "metadata": {},
   "outputs": [
    {
     "data": {
      "text/plain": [
       "<20000x32 sparse matrix of type '<class 'numpy.int64'>'\n",
       "\twith 36618 stored elements in Compressed Sparse Row format>"
      ]
     },
     "execution_count": 12,
     "metadata": {},
     "output_type": "execute_result"
    }
   ],
   "source": [
    "count_matrix"
   ]
  },
  {
   "cell_type": "code",
   "execution_count": 13,
   "metadata": {},
   "outputs": [],
   "source": [
    "cosine_sim = cosine_similarity(count_matrix, count_matrix)"
   ]
  },
  {
   "cell_type": "code",
   "execution_count": 14,
   "metadata": {},
   "outputs": [
    {
     "data": {
      "text/plain": [
       "array([[1.        , 0.        , 0.        , ..., 0.        , 0.        ,\n",
       "        0.        ],\n",
       "       [0.        , 1.        , 0.        , ..., 0.        , 0.        ,\n",
       "        0.        ],\n",
       "       [0.        , 0.        , 1.        , ..., 0.        , 0.        ,\n",
       "        0.        ],\n",
       "       ...,\n",
       "       [0.        , 0.        , 0.        , ..., 1.        , 0.        ,\n",
       "        0.70710678],\n",
       "       [0.        , 0.        , 0.        , ..., 0.        , 1.        ,\n",
       "        0.        ],\n",
       "       [0.        , 0.        , 0.        , ..., 0.70710678, 0.        ,\n",
       "        1.        ]])"
      ]
     },
     "execution_count": 14,
     "metadata": {},
     "output_type": "execute_result"
    }
   ],
   "source": [
    "cosine_sim"
   ]
  },
  {
   "cell_type": "code",
   "execution_count": 15,
   "metadata": {},
   "outputs": [
    {
     "data": {
      "text/plain": [
       "(20000, 20000)"
      ]
     },
     "execution_count": 15,
     "metadata": {},
     "output_type": "execute_result"
    }
   ],
   "source": [
    "cosine_sim.shape"
   ]
  },
  {
   "cell_type": "code",
   "execution_count": 16,
   "metadata": {},
   "outputs": [],
   "source": [
    "data = cosine_sim"
   ]
  },
  {
   "cell_type": "code",
   "execution_count": 17,
   "metadata": {},
   "outputs": [],
   "source": [
    "df2 = pd.DataFrame(data)"
   ]
  },
  {
   "cell_type": "code",
   "execution_count": 19,
   "metadata": {},
   "outputs": [
    {
     "data": {
      "text/html": [
       "<div>\n",
       "<style scoped>\n",
       "    .dataframe tbody tr th:only-of-type {\n",
       "        vertical-align: middle;\n",
       "    }\n",
       "\n",
       "    .dataframe tbody tr th {\n",
       "        vertical-align: top;\n",
       "    }\n",
       "\n",
       "    .dataframe thead th {\n",
       "        text-align: right;\n",
       "    }\n",
       "</style>\n",
       "<table border=\"1\" class=\"dataframe\">\n",
       "  <thead>\n",
       "    <tr style=\"text-align: right;\">\n",
       "      <th></th>\n",
       "      <th>0</th>\n",
       "      <th>1</th>\n",
       "      <th>2</th>\n",
       "      <th>3</th>\n",
       "      <th>4</th>\n",
       "      <th>5</th>\n",
       "      <th>6</th>\n",
       "      <th>7</th>\n",
       "      <th>8</th>\n",
       "      <th>9</th>\n",
       "      <th>...</th>\n",
       "      <th>19990</th>\n",
       "      <th>19991</th>\n",
       "      <th>19992</th>\n",
       "      <th>19993</th>\n",
       "      <th>19994</th>\n",
       "      <th>19995</th>\n",
       "      <th>19996</th>\n",
       "      <th>19997</th>\n",
       "      <th>19998</th>\n",
       "      <th>19999</th>\n",
       "    </tr>\n",
       "  </thead>\n",
       "  <tbody>\n",
       "    <tr>\n",
       "      <th>0</th>\n",
       "      <td>1.0</td>\n",
       "      <td>0.0</td>\n",
       "      <td>0.000000</td>\n",
       "      <td>0.000000</td>\n",
       "      <td>0.00000</td>\n",
       "      <td>0.0</td>\n",
       "      <td>0.0</td>\n",
       "      <td>0.333333</td>\n",
       "      <td>0.0</td>\n",
       "      <td>0.000000</td>\n",
       "      <td>...</td>\n",
       "      <td>0.000000</td>\n",
       "      <td>0.408248</td>\n",
       "      <td>0.333333</td>\n",
       "      <td>0.0</td>\n",
       "      <td>0.0</td>\n",
       "      <td>1.0</td>\n",
       "      <td>0.333333</td>\n",
       "      <td>0.0</td>\n",
       "      <td>0.0</td>\n",
       "      <td>0.000000</td>\n",
       "    </tr>\n",
       "    <tr>\n",
       "      <th>1</th>\n",
       "      <td>0.0</td>\n",
       "      <td>1.0</td>\n",
       "      <td>0.000000</td>\n",
       "      <td>0.000000</td>\n",
       "      <td>0.00000</td>\n",
       "      <td>0.0</td>\n",
       "      <td>0.0</td>\n",
       "      <td>0.000000</td>\n",
       "      <td>0.0</td>\n",
       "      <td>0.000000</td>\n",
       "      <td>...</td>\n",
       "      <td>0.000000</td>\n",
       "      <td>0.000000</td>\n",
       "      <td>0.000000</td>\n",
       "      <td>0.0</td>\n",
       "      <td>0.0</td>\n",
       "      <td>0.0</td>\n",
       "      <td>0.000000</td>\n",
       "      <td>0.0</td>\n",
       "      <td>0.0</td>\n",
       "      <td>0.000000</td>\n",
       "    </tr>\n",
       "    <tr>\n",
       "      <th>2</th>\n",
       "      <td>0.0</td>\n",
       "      <td>0.0</td>\n",
       "      <td>1.000000</td>\n",
       "      <td>0.408248</td>\n",
       "      <td>0.00000</td>\n",
       "      <td>0.0</td>\n",
       "      <td>0.0</td>\n",
       "      <td>0.000000</td>\n",
       "      <td>0.0</td>\n",
       "      <td>0.000000</td>\n",
       "      <td>...</td>\n",
       "      <td>0.500000</td>\n",
       "      <td>0.000000</td>\n",
       "      <td>0.000000</td>\n",
       "      <td>0.0</td>\n",
       "      <td>0.0</td>\n",
       "      <td>0.0</td>\n",
       "      <td>0.000000</td>\n",
       "      <td>0.0</td>\n",
       "      <td>0.0</td>\n",
       "      <td>0.000000</td>\n",
       "    </tr>\n",
       "    <tr>\n",
       "      <th>3</th>\n",
       "      <td>0.0</td>\n",
       "      <td>0.0</td>\n",
       "      <td>0.408248</td>\n",
       "      <td>1.000000</td>\n",
       "      <td>0.57735</td>\n",
       "      <td>0.0</td>\n",
       "      <td>0.0</td>\n",
       "      <td>0.000000</td>\n",
       "      <td>0.0</td>\n",
       "      <td>0.333333</td>\n",
       "      <td>...</td>\n",
       "      <td>0.816497</td>\n",
       "      <td>0.408248</td>\n",
       "      <td>0.000000</td>\n",
       "      <td>0.0</td>\n",
       "      <td>0.0</td>\n",
       "      <td>0.0</td>\n",
       "      <td>0.000000</td>\n",
       "      <td>0.0</td>\n",
       "      <td>0.0</td>\n",
       "      <td>0.408248</td>\n",
       "    </tr>\n",
       "    <tr>\n",
       "      <th>4</th>\n",
       "      <td>0.0</td>\n",
       "      <td>0.0</td>\n",
       "      <td>0.000000</td>\n",
       "      <td>0.577350</td>\n",
       "      <td>1.00000</td>\n",
       "      <td>0.0</td>\n",
       "      <td>0.0</td>\n",
       "      <td>0.000000</td>\n",
       "      <td>0.0</td>\n",
       "      <td>0.577350</td>\n",
       "      <td>...</td>\n",
       "      <td>0.000000</td>\n",
       "      <td>0.707107</td>\n",
       "      <td>0.000000</td>\n",
       "      <td>0.0</td>\n",
       "      <td>0.0</td>\n",
       "      <td>0.0</td>\n",
       "      <td>0.000000</td>\n",
       "      <td>0.0</td>\n",
       "      <td>0.0</td>\n",
       "      <td>0.707107</td>\n",
       "    </tr>\n",
       "  </tbody>\n",
       "</table>\n",
       "<p>5 rows × 20000 columns</p>\n",
       "</div>"
      ],
      "text/plain": [
       "   0      1         2         3        4      5      6         7      8      \\\n",
       "0    1.0    0.0  0.000000  0.000000  0.00000    0.0    0.0  0.333333    0.0   \n",
       "1    0.0    1.0  0.000000  0.000000  0.00000    0.0    0.0  0.000000    0.0   \n",
       "2    0.0    0.0  1.000000  0.408248  0.00000    0.0    0.0  0.000000    0.0   \n",
       "3    0.0    0.0  0.408248  1.000000  0.57735    0.0    0.0  0.000000    0.0   \n",
       "4    0.0    0.0  0.000000  0.577350  1.00000    0.0    0.0  0.000000    0.0   \n",
       "\n",
       "      9      ...     19990     19991     19992  19993  19994  19995     19996  \\\n",
       "0  0.000000  ...  0.000000  0.408248  0.333333    0.0    0.0    1.0  0.333333   \n",
       "1  0.000000  ...  0.000000  0.000000  0.000000    0.0    0.0    0.0  0.000000   \n",
       "2  0.000000  ...  0.500000  0.000000  0.000000    0.0    0.0    0.0  0.000000   \n",
       "3  0.333333  ...  0.816497  0.408248  0.000000    0.0    0.0    0.0  0.000000   \n",
       "4  0.577350  ...  0.000000  0.707107  0.000000    0.0    0.0    0.0  0.000000   \n",
       "\n",
       "   19997  19998     19999  \n",
       "0    0.0    0.0  0.000000  \n",
       "1    0.0    0.0  0.000000  \n",
       "2    0.0    0.0  0.000000  \n",
       "3    0.0    0.0  0.408248  \n",
       "4    0.0    0.0  0.707107  \n",
       "\n",
       "[5 rows x 20000 columns]"
      ]
     },
     "execution_count": 19,
     "metadata": {},
     "output_type": "execute_result"
    }
   ],
   "source": [
    "df2.head()"
   ]
  }
 ],
 "metadata": {
  "kernelspec": {
   "name": "python395jvsc74a57bd063fd5069d213b44bf678585dea6b12cceca9941eaf7f819626cde1f2670de90d",
   "display_name": "Python 3.9.5 64-bit"
  },
  "language_info": {
   "codemirror_mode": {
    "name": "ipython",
    "version": 3
   },
   "file_extension": ".py",
   "mimetype": "text/x-python",
   "name": "python",
   "nbconvert_exporter": "python",
   "pygments_lexer": "ipython3",
   "version": "3.9.5"
  },
  "metadata": {
   "interpreter": {
    "hash": "63fd5069d213b44bf678585dea6b12cceca9941eaf7f819626cde1f2670de90d"
   }
  }
 },
 "nbformat": 4,
 "nbformat_minor": 4
}