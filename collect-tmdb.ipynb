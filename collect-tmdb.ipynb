{
 "cells": [
  {
   "cell_type": "code",
   "execution_count": null,
   "metadata": {},
   "outputs": [],
   "source": [
    "import numpy as np\r\n",
    "import pandas as pd\r\n",
    "import requests"
   ]
  },
  {
   "cell_type": "code",
   "execution_count": null,
   "metadata": {},
   "outputs": [],
   "source": [
    "data = pd.read_table(\"final-data.tsv\")\r\n",
    "data = data.drop([\"Unnamed: 0\",\"Unnamed: 0.1\"],axis=1)\r\n",
    "titles = list(data[\"tconst\"])"
   ]
  },
  {
   "cell_type": "code",
   "execution_count": null,
   "metadata": {},
   "outputs": [],
   "source": [
    "titles = titles[346:]"
   ]
  },
  {
   "cell_type": "code",
   "execution_count": null,
   "metadata": {},
   "outputs": [],
   "source": [
    "\r\n",
    "for title in titles:\r\n",
    "    link = f\"https://api.themoviedb.org/3/find/{title}?api_key=6f177dfc1ff00f7b6872fe3152ab151e&language=en-US&external_source=imdb_id\"\r\n",
    "    try:\r\n",
    "        r = requests.get(link)\r\n",
    "        print(r.text)\r\n",
    "        try:\r\n",
    "            with open(f\"tmdb-data\\\\{title}.json\",\"w\",encoding=\"utf-8\") as file:\r\n",
    "                file.write(r.text)\r\n",
    "        except:\r\n",
    "            print(\"File IO error.\")\r\n",
    "    except:\r\n",
    "        print(\"Some Error with api.\")"
   ]
  },
  {
   "cell_type": "code",
   "execution_count": null,
   "metadata": {},
   "outputs": [],
   "source": []
  }
 ],
 "metadata": {
  "interpreter": {
   "hash": "63fd5069d213b44bf678585dea6b12cceca9941eaf7f819626cde1f2670de90d"
  },
  "kernelspec": {
   "display_name": "Python 3.9.5 64-bit",
   "name": "python3"
  },
  "language_info": {
   "name": "python",
   "version": ""
  },
  "orig_nbformat": 4
 },
 "nbformat": 4,
 "nbformat_minor": 2
}