{
 "cells": [
  {
   "cell_type": "code",
   "execution_count": 1,
   "metadata": {},
   "outputs": [],
   "source": [
    "import pandas as pd\r\n",
    "import os\r\n",
    "import json"
   ]
  },
  {
   "cell_type": "code",
   "execution_count": 2,
   "metadata": {},
   "outputs": [],
   "source": [
    "main_data = pd.read_table(\"data\\\\imdb-title-cast-rating.tsv\")"
   ]
  },
  {
   "cell_type": "code",
   "execution_count": 3,
   "metadata": {},
   "outputs": [],
   "source": [
    "\r\n",
    "items = os.listdir(\"tmdb-data\")"
   ]
  },
  {
   "cell_type": "code",
   "execution_count": 6,
   "metadata": {},
   "outputs": [
    {
     "name": "stdout",
     "output_type": "stream",
     "text": [
      "1038\n",
      "32956\n",
      "22\n"
     ]
    }
   ],
   "source": [
    "description = []\r\n",
    "count1 = 0\r\n",
    "count2 = 0\r\n",
    "count3 = 0\r\n",
    "for it in items:\r\n",
    "    try:\r\n",
    "        with open(f\"tmdb-data\\\\{it}\",\"r\",encoding=\"utf-8\") as f:\r\n",
    "            text = f.read()\r\n",
    "\r\n",
    "        if \"overview\" in text:\r\n",
    "            jj = json.loads(text)\r\n",
    "            try:\r\n",
    "                ovw = jj['movie_results'][0][\"overview\"]\r\n",
    "                count1 += 1\r\n",
    "            except:\r\n",
    "                try:\r\n",
    "                    ovw = jj['tv_results'][0][\"overview\"]\r\n",
    "                    count2 += 1\r\n",
    "                except:\r\n",
    "                    ovw = \"\"\r\n",
    "                    count3 += 1\r\n",
    "        else:\r\n",
    "            ovw = \"\"\r\n",
    "    except :\r\n",
    "        ovw = \"\"\r\n",
    "    \r\n",
    "    description.append(ovw)\r\n",
    "\r\n",
    "print(count1)\r\n",
    "print(count2)\r\n",
    "print(count3)\r\n",
    "\r\n",
    "\r\n"
   ]
  },
  {
   "cell_type": "code",
   "execution_count": 11,
   "metadata": {},
   "outputs": [
    {
     "name": "stdout",
     "output_type": "stream",
     "text": [
      "27308\n"
     ]
    }
   ],
   "source": [
    "count = 0\r\n",
    "for d in description:\r\n",
    "    if d != \"\":\r\n",
    "        count += 1\r\n",
    "\r\n",
    "print(count)"
   ]
  },
  {
   "cell_type": "code",
   "execution_count": 7,
   "metadata": {},
   "outputs": [],
   "source": [
    "main_data[\"description\"] = description"
   ]
  },
  {
   "cell_type": "code",
   "execution_count": 9,
   "metadata": {},
   "outputs": [
    {
     "data": {
      "text/plain": [
       "(27308, 12)"
      ]
     },
     "execution_count": 9,
     "metadata": {},
     "output_type": "execute_result"
    }
   ],
   "source": [
    "main_data[main_data[\"description\"]!=\"\"].shape"
   ]
  },
  {
   "cell_type": "code",
   "execution_count": 13,
   "metadata": {},
   "outputs": [],
   "source": [
    "main_data.to_csv(\"data\\\\imdb-title-cast-rating-desc.tsv\",sep=\"\\t\",index=False)"
   ]
  },
  {
   "cell_type": "code",
   "execution_count": null,
   "metadata": {},
   "outputs": [],
   "source": []
  }
 ],
 "metadata": {
  "interpreter": {
   "hash": "63fd5069d213b44bf678585dea6b12cceca9941eaf7f819626cde1f2670de90d"
  },
  "kernelspec": {
   "display_name": "Python 3.9.5 64-bit",
   "name": "python3"
  },
  "language_info": {
   "codemirror_mode": {
    "name": "ipython",
    "version": 3
   },
   "file_extension": ".py",
   "mimetype": "text/x-python",
   "name": "python",
   "nbconvert_exporter": "python",
   "pygments_lexer": "ipython3",
   "version": "3.9.5"
  },
  "orig_nbformat": 4
 },
 "nbformat": 4,
 "nbformat_minor": 2
}