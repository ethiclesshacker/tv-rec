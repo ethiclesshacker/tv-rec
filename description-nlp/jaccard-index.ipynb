{
 "cells": [
  {
   "cell_type": "code",
   "execution_count": null,
   "source": [
    "import numpy as np\r\n",
    "import pandas as pd\r\n",
    "import textdistance as td\r\n",
    "import json"
   ],
   "outputs": [],
   "metadata": {}
  },
  {
   "cell_type": "code",
   "execution_count": null,
   "source": [
    "data = pd.read_table(\".\\\\..\\\\data\\\\imdb-title-cast-rating-desc.tsv\",usecols=[\"title\",\"description\"])\r\n",
    "data = data.dropna()"
   ],
   "outputs": [],
   "metadata": {}
  },
  {
   "cell_type": "code",
   "execution_count": null,
   "source": [
    "data"
   ],
   "outputs": [],
   "metadata": {}
  },
  {
   "cell_type": "code",
   "execution_count": null,
   "source": [
    "jd = {}\r\n",
    "sample_data = data[:1000]\r\n",
    "\r\n",
    "for item in sample_data.iterrows():\r\n",
    "    title = item[1][\"title\"]\r\n",
    "    jd[title] = {}\r\n",
    "\r\n",
    "for item in sample_data.iterrows():\r\n",
    "    title = item[1][\"title\"]\r\n",
    "    desc = item[1][\"description\"]\r\n",
    "\r\n",
    "    for item1 in sample_data.iterrows():\r\n",
    "        title1 = item1[1][\"title\"]\r\n",
    "        desc1 = item1[1][\"description\"]\r\n",
    "\r\n",
    "        if title1 in jd[title].keys():\r\n",
    "            # print(\"Key Present.\")\r\n",
    "            continue\r\n",
    "\r\n",
    "        if title == title1:\r\n",
    "            jd[title][title1] = jd[title1][title] = -1\r\n",
    "            # print(\"Set value as -1\")\r\n",
    "            continue\r\n",
    "\r\n",
    "        jd[title][title1] = jd[title1][title] = td.jaccard(desc,desc1)\r\n",
    "        \r\n",
    "\r\n",
    "with open(\"jd-maybe.json\",\"w\",encoding=\"utf-8\") as f:\r\n",
    "    f.write(json.dumps(jd))\r\n",
    "    \r\n",
    "\r\n"
   ],
   "outputs": [],
   "metadata": {}
  },
  {
   "cell_type": "code",
   "execution_count": null,
   "source": [
    "\r\n",
    "\r\n",
    "\r\n"
   ],
   "outputs": [],
   "metadata": {}
  },
  {
   "cell_type": "code",
   "execution_count": null,
   "source": [],
   "outputs": [],
   "metadata": {}
  }
 ],
 "metadata": {
  "interpreter": {
   "hash": "63fd5069d213b44bf678585dea6b12cceca9941eaf7f819626cde1f2670de90d"
  },
  "kernelspec": {
   "name": "python3",
   "display_name": "Python 3.9.6 64-bit"
  },
  "language_info": {
   "codemirror_mode": {
    "name": "ipython",
    "version": 3
   },
   "file_extension": ".py",
   "mimetype": "text/x-python",
   "name": "python",
   "nbconvert_exporter": "python",
   "pygments_lexer": "ipython3",
   "version": "3.9.6"
  },
  "orig_nbformat": 4
 },
 "nbformat": 4,
 "nbformat_minor": 2
}