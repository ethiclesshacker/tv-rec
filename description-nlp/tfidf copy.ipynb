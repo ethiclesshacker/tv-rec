{
 "cells": [
  {
   "cell_type": "code",
   "execution_count": 1,
   "metadata": {},
   "outputs": [],
   "source": [
    "import pandas as pd\r\n",
    "from sklearn.feature_extraction.text import TfidfVectorizer\r\n",
    "from sklearn.metrics.pairwise import linear_kernel"
   ]
  },
  {
   "cell_type": "code",
   "execution_count": 2,
   "metadata": {},
   "outputs": [],
   "source": [
    "df = pd.read_table('data\\\\imdb-title-cast-rating-desc.tsv')\r\n",
    "df = df.dropna()"
   ]
  },
  {
   "cell_type": "code",
   "execution_count": 3,
   "metadata": {},
   "outputs": [
    {
     "name": "stderr",
     "output_type": "stream",
     "text": [
      "<ipython-input-3-289b4804a6f2>:2: SettingWithCopyWarning: \n",
      "A value is trying to be set on a copy of a slice from a DataFrame.\n",
      "Try using .loc[row_indexer,col_indexer] = value instead\n",
      "\n",
      "See the caveats in the documentation: https://pandas.pydata.org/pandas-docs/stable/user_guide/indexing.html#returning-a-view-versus-a-copy\n",
      "  df2['description'] = df2['description'].fillna('')\n"
     ]
    }
   ],
   "source": [
    "df2 = df.iloc[0:20000,:]\r\n",
    "# df2['description'] = df2['description'].fillna('')"
   ]
  },
  {
   "cell_type": "code",
   "execution_count": 4,
   "metadata": {},
   "outputs": [],
   "source": [
    "tfidf = TfidfVectorizer(min_df=3,max_features=None,strip_accents='unicode',analyzer='word',token_pattern=r'\\w{1,}',ngram_range=(1,3),stop_words='english')\r\n",
    "tfidf_matrix = tfidf.fit_transform(df2['description'])"
   ]
  },
  {
   "cell_type": "code",
   "execution_count": 8,
   "metadata": {},
   "outputs": [
    {
     "name": "stdout",
     "output_type": "stream",
     "text": [
      "TfidfVectorizer(min_df=3, ngram_range=(1, 3), stop_words='english',\n",
      "                strip_accents='unicode', token_pattern='\\\\w{1,}')\n"
     ]
    }
   ],
   "source": [
    "print(tfidf)"
   ]
  },
  {
   "cell_type": "code",
   "execution_count": 10,
   "metadata": {},
   "outputs": [
    {
     "name": "stdout",
     "output_type": "stream",
     "text": [
      "[[1.         0.         0.0052648  ... 0.         0.         0.00816511]\n",
      " [0.         1.         0.01346079 ... 0.         0.         0.        ]\n",
      " [0.0052648  0.01346079 1.         ... 0.         0.01274671 0.00171559]\n",
      " ...\n",
      " [0.         0.         0.         ... 1.         0.11669323 0.        ]\n",
      " [0.         0.         0.01274671 ... 0.11669323 1.         0.        ]\n",
      " [0.00816511 0.         0.00171559 ... 0.         0.         1.        ]]\n"
     ]
    }
   ],
   "source": [
    "\r\n",
    "cosine_sim = linear_kernel(tfidf_matrix, tfidf_matrix)\r\n",
    "print(cosine_sim)\r\n"
   ]
  },
  {
   "cell_type": "code",
   "execution_count": 12,
   "metadata": {},
   "outputs": [],
   "source": [
    "ls = pd.DataFrame(cosine_sim)"
   ]
  },
  {
   "cell_type": "code",
   "execution_count": 15,
   "metadata": {},
   "outputs": [
    {
     "data": {
      "text/plain": [
       "0        [0.9999999999999992, 0.1571726201302343, 0.139...\n",
       "1        [1.0000000000000002, 0.2702252149416588, 0.191...\n",
       "2        [1.0, 0.22542353664500667, 0.1320033079260056,...\n",
       "3        [1.0000000000000004, 0.1467356035977338, 0.146...\n",
       "4        [0.9999999999999993, 0.16893479785817364, 0.14...\n",
       "                               ...                        \n",
       "19995    [1.0000000000000002, 0.32121607819527087, 0.24...\n",
       "19996    [0.9999999999999998, 0.5943623041011228, 0.579...\n",
       "19997    [0.9999999999999999, 0.20860254709671308, 0.18...\n",
       "19998    [0.9999999999999997, 0.37178283812841323, 0.36...\n",
       "19999    [1.0, 0.152462304994344, 0.14559930575217092, ...\n",
       "Length: 20000, dtype: object"
      ]
     },
     "execution_count": 15,
     "metadata": {},
     "output_type": "execute_result"
    }
   ],
   "source": [
    "ls.apply(lambda x: sorted(list(x),reverse=True)[:5],axis=1)"
   ]
  },
  {
   "cell_type": "code",
   "execution_count": null,
   "metadata": {},
   "outputs": [],
   "source": []
  }
 ],
 "metadata": {
  "interpreter": {
   "hash": "63fd5069d213b44bf678585dea6b12cceca9941eaf7f819626cde1f2670de90d"
  },
  "kernelspec": {
   "display_name": "Python 3.9.5 64-bit",
   "name": "python3"
  },
  "language_info": {
   "codemirror_mode": {
    "name": "ipython",
    "version": 3
   },
   "file_extension": ".py",
   "mimetype": "text/x-python",
   "name": "python",
   "nbconvert_exporter": "python",
   "pygments_lexer": "ipython3",
   "version": "3.9.5"
  }
 },
 "nbformat": 4,
 "nbformat_minor": 4
}