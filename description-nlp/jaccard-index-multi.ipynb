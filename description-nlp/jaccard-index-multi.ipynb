{
 "cells": [
  {
   "cell_type": "code",
   "execution_count": 1,
   "metadata": {},
   "outputs": [],
   "source": [
    "import numpy as np\r\n",
    "import pandas as pd\r\n",
    "import textdistance as td\r\n",
    "import json"
   ]
  },
  {
   "cell_type": "code",
   "execution_count": 2,
   "metadata": {},
   "outputs": [],
   "source": [
    "data = pd.read_table(\".\\\\..\\\\data\\\\imdb-title-cast-rating-desc.tsv\",usecols=[\"title\",\"description\"])\r\n",
    "data = data.dropna()"
   ]
  },
  {
   "cell_type": "code",
   "execution_count": null,
   "metadata": {},
   "outputs": [],
   "source": [
    "jd = {}\r\n",
    "\r\n",
    "for item in data.iterrows():\r\n",
    "    title = item[1][\"title\"]\r\n",
    "    jd[title] = {}\r\n",
    "\r\n",
    "for item in data.iterrows():\r\n",
    "    title = item[1][\"title\"]\r\n",
    "    desc = item[1][\"description\"]\r\n",
    "\r\n",
    "    for item1 in data.iterrows():\r\n",
    "        title1 = item1[1][\"title\"]\r\n",
    "        desc1 = item1[1][\"description\"]\r\n",
    "\r\n",
    "        if title1 in jd[title].keys():\r\n",
    "            continue\r\n",
    "        if title == title1:\r\n",
    "            jd[title][title1] = -1\r\n",
    "\r\n",
    "        jd[title][title1] = td.jaccard(desc,desc1)\r\n",
    "        jd[title1][title] = td.jaccard(desc,desc1)\r\n",
    "\r\n",
    "    with open(\"jd-maybe.json\",\"w\",encoding=\"utf-8\") as f:\r\n",
    "        f.write(json.dumps(jd))\r\n",
    "    \r\n",
    "\r\n"
   ]
  },
  {
   "cell_type": "code",
   "execution_count": 22,
   "metadata": {},
   "outputs": [],
   "source": [
    "\r\n",
    "\r\n",
    "\r\n"
   ]
  },
  {
   "cell_type": "code",
   "execution_count": null,
   "metadata": {},
   "outputs": [],
   "source": []
  }
 ],
 "metadata": {
  "interpreter": {
   "hash": "63fd5069d213b44bf678585dea6b12cceca9941eaf7f819626cde1f2670de90d"
  },
  "kernelspec": {
   "display_name": "Python 3.9.5 64-bit",
   "name": "python3"
  },
  "language_info": {
   "codemirror_mode": {
    "name": "ipython",
    "version": 3
   },
   "file_extension": ".py",
   "mimetype": "text/x-python",
   "name": "python",
   "nbconvert_exporter": "python",
   "pygments_lexer": "ipython3",
   "version": "3.9.5"
  },
  "orig_nbformat": 4
 },
 "nbformat": 4,
 "nbformat_minor": 2
}