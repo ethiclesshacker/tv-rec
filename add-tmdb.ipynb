{
 "cells": [
  {
   "cell_type": "code",
   "execution_count": 2,
   "metadata": {},
   "outputs": [],
   "source": [
    "import numpy as np\r\n",
    "import pandas as pd\r\n",
    "import requests"
   ]
  },
  {
   "cell_type": "code",
   "execution_count": 5,
   "metadata": {},
   "outputs": [],
   "source": [
    "data = pd.read_table(\"final-data.tsv\")\r\n",
    "data = data.drop([\"Unnamed: 0\",\"Unnamed: 0.1\"],axis=1)\r\n",
    "titles = list(data[\"tconst\"])"
   ]
  },
  {
   "cell_type": "code",
   "execution_count": null,
   "metadata": {},
   "outputs": [],
   "source": [
    "\r\n",
    "for title in titles:\r\n",
    "    link = f\"https://api.themoviedb.org/3/find/{title}?api_key=6f177dfc1ff00f7b6872fe3152ab151e&language=en-US&external_source=imdb_id\"\r\n",
    "    r = requests.get(link)\r\n",
    "    print(r.text)\r\n",
    "    with open(f\"tmdb-data\\\\{title}.json\",\"w\") as file:\r\n",
    "        file.write(r.text)"
   ]
  },
  {
   "cell_type": "code",
   "execution_count": 5,
   "metadata": {},
   "outputs": [
    {
     "name": "stdout",
     "output_type": "stream",
     "text": [
      "200\n"
     ]
    },
    {
     "data": {
      "text/plain": [
       "'{\"movie_results\":[],\"person_results\":[],\"tv_results\":[{\"overview\":\"Brave Eagle is a 26-episode half-hour western television series which aired on CBS from September 28, 1955, to March 14, 1956, with rebroadcasts continuing until June 6. Keith Larsen, who was of Norwegian descent, starred as Brave Eagle, a peaceful young Cheyenne chief.\\\\n\\\\nThe program was unconventional in that it\\\\n\\\\n⁕ reflects the Native American viewpoint in the settlement of the American West and\\\\n\\\\n⁕ was the first series to feature an American Indian as a lead character.\\\\n\\\\nLarsen\\'s co-stars were Kim Winona, a Sioux Indian, as Morning Star, Brave Eagle\\'s romantic interest; Anthony Numkena of Arizona, a Hopi Indian then using the stage name Keena Nomkeena, appeared as Keena, the adopted son of Brave Eagle; Pat Hogan as Black Cloud, and Bert Wheeler of the comedy team Wheeler \\\\u0026 Woolsey, as the halfbreed Smokey Joe, full of tribal tall tales but accompanying wisdom.\\\\n\\\\nThe episodes center upon routine activities among the Cheyenne, clashes with other tribes, attempts to prevent war, encroachment from white settlers, racial prejudice, and a threat of smallpox.\",\"original_name\":\"Brave Eagle\",\"origin_country\":[\"US\"],\"backdrop_path\":null,\"genre_ids\":[37,18],\"vote_count\":0,\"first_air_date\":\"1955-09-28\",\"id\":16200,\"poster_path\":\"/9i4XYZkWUFFKxcaxaulILRXnoC4.jpg\",\"vote_average\":0.0,\"original_language\":\"en\",\"name\":\"Brave Eagle\",\"popularity\":2.02}],\"tv_episode_results\":[],\"tv_season_results\":[]}'"
      ]
     },
     "execution_count": 5,
     "metadata": {},
     "output_type": "execute_result"
    }
   ],
   "source": [
    "title = \"tt0047716\"\r\n",
    "r = requests.get(f\"https://api.themoviedb.org/3/find/{title}?api_key=6f177dfc1ff00f7b6872fe3152ab151e&language=en-US&external_source=imdb_id\")\r\n",
    "print(r.status_code)\r\n",
    "r.text"
   ]
  },
  {
   "cell_type": "code",
   "execution_count": 6,
   "metadata": {},
   "outputs": [
    {
     "ename": "UnicodeEncodeError",
     "evalue": "'charmap' codec can't encode character '\\u2055' in position 386: character maps to <undefined>",
     "output_type": "error",
     "traceback": [
      "\u001b[1;31m---------------------------------------------------------------------------\u001b[0m",
      "\u001b[1;31mUnicodeEncodeError\u001b[0m                        Traceback (most recent call last)",
      "\u001b[1;32m<ipython-input-6-ad23e470b273>\u001b[0m in \u001b[0;36m<module>\u001b[1;34m\u001b[0m\n\u001b[0;32m      1\u001b[0m \u001b[1;32mwith\u001b[0m \u001b[0mopen\u001b[0m\u001b[1;33m(\u001b[0m\u001b[1;34mf\"tmdb-data\\\\{title}.json\"\u001b[0m\u001b[1;33m,\u001b[0m\u001b[1;34m\"w\"\u001b[0m\u001b[1;33m)\u001b[0m \u001b[1;32mas\u001b[0m \u001b[0mfile\u001b[0m\u001b[1;33m:\u001b[0m\u001b[1;33m\u001b[0m\u001b[1;33m\u001b[0m\u001b[0m\n\u001b[1;32m----> 2\u001b[1;33m     \u001b[0mfile\u001b[0m\u001b[1;33m.\u001b[0m\u001b[0mwrite\u001b[0m\u001b[1;33m(\u001b[0m\u001b[0mr\u001b[0m\u001b[1;33m.\u001b[0m\u001b[0mtext\u001b[0m\u001b[1;33m)\u001b[0m\u001b[1;33m\u001b[0m\u001b[1;33m\u001b[0m\u001b[0m\n\u001b[0m",
      "\u001b[1;32mC:\\Python39\\lib\\encodings\\cp1252.py\u001b[0m in \u001b[0;36mencode\u001b[1;34m(self, input, final)\u001b[0m\n\u001b[0;32m     17\u001b[0m \u001b[1;32mclass\u001b[0m \u001b[0mIncrementalEncoder\u001b[0m\u001b[1;33m(\u001b[0m\u001b[0mcodecs\u001b[0m\u001b[1;33m.\u001b[0m\u001b[0mIncrementalEncoder\u001b[0m\u001b[1;33m)\u001b[0m\u001b[1;33m:\u001b[0m\u001b[1;33m\u001b[0m\u001b[1;33m\u001b[0m\u001b[0m\n\u001b[0;32m     18\u001b[0m     \u001b[1;32mdef\u001b[0m \u001b[0mencode\u001b[0m\u001b[1;33m(\u001b[0m\u001b[0mself\u001b[0m\u001b[1;33m,\u001b[0m \u001b[0minput\u001b[0m\u001b[1;33m,\u001b[0m \u001b[0mfinal\u001b[0m\u001b[1;33m=\u001b[0m\u001b[1;32mFalse\u001b[0m\u001b[1;33m)\u001b[0m\u001b[1;33m:\u001b[0m\u001b[1;33m\u001b[0m\u001b[1;33m\u001b[0m\u001b[0m\n\u001b[1;32m---> 19\u001b[1;33m         \u001b[1;32mreturn\u001b[0m \u001b[0mcodecs\u001b[0m\u001b[1;33m.\u001b[0m\u001b[0mcharmap_encode\u001b[0m\u001b[1;33m(\u001b[0m\u001b[0minput\u001b[0m\u001b[1;33m,\u001b[0m\u001b[0mself\u001b[0m\u001b[1;33m.\u001b[0m\u001b[0merrors\u001b[0m\u001b[1;33m,\u001b[0m\u001b[0mencoding_table\u001b[0m\u001b[1;33m)\u001b[0m\u001b[1;33m[\u001b[0m\u001b[1;36m0\u001b[0m\u001b[1;33m]\u001b[0m\u001b[1;33m\u001b[0m\u001b[1;33m\u001b[0m\u001b[0m\n\u001b[0m\u001b[0;32m     20\u001b[0m \u001b[1;33m\u001b[0m\u001b[0m\n\u001b[0;32m     21\u001b[0m \u001b[1;32mclass\u001b[0m \u001b[0mIncrementalDecoder\u001b[0m\u001b[1;33m(\u001b[0m\u001b[0mcodecs\u001b[0m\u001b[1;33m.\u001b[0m\u001b[0mIncrementalDecoder\u001b[0m\u001b[1;33m)\u001b[0m\u001b[1;33m:\u001b[0m\u001b[1;33m\u001b[0m\u001b[1;33m\u001b[0m\u001b[0m\n",
      "\u001b[1;31mUnicodeEncodeError\u001b[0m: 'charmap' codec can't encode character '\\u2055' in position 386: character maps to <undefined>"
     ]
    }
   ],
   "source": [
    "with open(f\"tmdb-data\\\\{title}.json\",\"w\",encoding=\"utf-8\") as file:\r\n",
    "    file.write(r.text)"
   ]
  },
  {
   "cell_type": "code",
   "execution_count": null,
   "metadata": {},
   "outputs": [],
   "source": []
  }
 ],
 "metadata": {
  "interpreter": {
   "hash": "63fd5069d213b44bf678585dea6b12cceca9941eaf7f819626cde1f2670de90d"
  },
  "kernelspec": {
   "display_name": "Python 3.9.5 64-bit",
   "name": "python3"
  },
  "language_info": {
   "codemirror_mode": {
    "name": "ipython",
    "version": 3
   },
   "file_extension": ".py",
   "mimetype": "text/x-python",
   "name": "python",
   "nbconvert_exporter": "python",
   "pygments_lexer": "ipython3",
   "version": "3.9.5"
  },
  "orig_nbformat": 4
 },
 "nbformat": 4,
 "nbformat_minor": 2
}