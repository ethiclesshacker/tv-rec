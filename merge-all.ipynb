{
 "cells": [
  {
   "cell_type": "code",
   "execution_count": 51,
   "metadata": {},
   "outputs": [],
   "source": [
    "import numpy as np\r\n",
    "import pandas as pd"
   ]
  },
  {
   "cell_type": "code",
   "execution_count": 52,
   "metadata": {},
   "outputs": [],
   "source": [
    "columns = [\"title\",\"rating\",\"genre\",\"description\"]"
   ]
  },
  {
   "cell_type": "code",
   "execution_count": 53,
   "metadata": {},
   "outputs": [],
   "source": [
    "imdb = pd.read_table(\"data\\\\imdb-title-cast-rating-desc.tsv\",usecols=columns)\r\n",
    "netflix = pd.read_csv(\"data\\\\netflix_titles.csv\",usecols=columns)\r\n",
    "allss = pd.read_csv(\"data\\\\all_streaming_shows.csv\",usecols=columns)"
   ]
  },
  {
   "cell_type": "code",
   "execution_count": 54,
   "metadata": {},
   "outputs": [],
   "source": [
    "imdbwot = imdb[imdb[\"description\"].isna()]\r\n",
    "imdbwt = imdb.dropna()"
   ]
  },
  {
   "cell_type": "code",
   "execution_count": 55,
   "metadata": {},
   "outputs": [],
   "source": [
    "tt_imdbwt = set(imdbwt[\"title\"])\r\n",
    "tt_imdbwot = set(imdbwot[\"title\"])\r\n",
    "tt_net = set(netflix[\"title\"])\r\n",
    "tt_allss = set(allss[\"title\"])"
   ]
  },
  {
   "cell_type": "code",
   "execution_count": 56,
   "metadata": {},
   "outputs": [
    {
     "name": "stdout",
     "output_type": "stream",
     "text": [
      "1606\n",
      "6644\n",
      "1238\n"
     ]
    }
   ],
   "source": [
    "print(len(tt_imdbwt.intersection(tt_net)))\r\n",
    "print(len(tt_imdbwt.intersection(tt_allss)))\r\n",
    "print(len(tt_imdbwt.intersection(tt_allss).intersection(tt_net)))"
   ]
  },
  {
   "cell_type": "code",
   "execution_count": 57,
   "metadata": {},
   "outputs": [],
   "source": [
    "allss_add = allss[allss[\"title\"].isin(tt_imdbwt)==False]"
   ]
  },
  {
   "cell_type": "code",
   "execution_count": 58,
   "metadata": {},
   "outputs": [],
   "source": [
    "allss_add = allss_add.dropna()"
   ]
  },
  {
   "cell_type": "code",
   "execution_count": 59,
   "metadata": {},
   "outputs": [],
   "source": [
    "final = pd.concat([imdbwt, allss_add],ignore_index=True)"
   ]
  },
  {
   "cell_type": "code",
   "execution_count": 60,
   "metadata": {},
   "outputs": [
    {
     "data": {
      "text/html": [
       "<div>\n",
       "<style scoped>\n",
       "    .dataframe tbody tr th:only-of-type {\n",
       "        vertical-align: middle;\n",
       "    }\n",
       "\n",
       "    .dataframe tbody tr th {\n",
       "        vertical-align: top;\n",
       "    }\n",
       "\n",
       "    .dataframe thead th {\n",
       "        text-align: right;\n",
       "    }\n",
       "</style>\n",
       "<table border=\"1\" class=\"dataframe\">\n",
       "  <thead>\n",
       "    <tr style=\"text-align: right;\">\n",
       "      <th></th>\n",
       "      <th>title</th>\n",
       "      <th>genre</th>\n",
       "      <th>rating</th>\n",
       "      <th>description</th>\n",
       "    </tr>\n",
       "  </thead>\n",
       "  <tbody>\n",
       "    <tr>\n",
       "      <th>0</th>\n",
       "      <td>The Green Archer</td>\n",
       "      <td>Action,Adventure,Crime</td>\n",
       "      <td>6.6</td>\n",
       "      <td>Columbia's 12th serial of 57 total (following ...</td>\n",
       "    </tr>\n",
       "    <tr>\n",
       "      <th>1</th>\n",
       "      <td>The German Weekly Review</td>\n",
       "      <td>Documentary,News</td>\n",
       "      <td>7.7</td>\n",
       "      <td>News of the Week: German Troops Capture Rome; ...</td>\n",
       "    </tr>\n",
       "    <tr>\n",
       "      <th>2</th>\n",
       "      <td>Americana</td>\n",
       "      <td>Family,Game-Show</td>\n",
       "      <td>3.0</td>\n",
       "      <td>Americana is a weekly game show which ran on N...</td>\n",
       "    </tr>\n",
       "    <tr>\n",
       "      <th>3</th>\n",
       "      <td>Kraft Theatre</td>\n",
       "      <td>Drama</td>\n",
       "      <td>8.4</td>\n",
       "      <td>Kraft Television Theatre is an American drama/...</td>\n",
       "    </tr>\n",
       "    <tr>\n",
       "      <th>4</th>\n",
       "      <td>Actor's Studio</td>\n",
       "      <td>Drama</td>\n",
       "      <td>7.1</td>\n",
       "      <td>Actors Studio is an American TV show which air...</td>\n",
       "    </tr>\n",
       "    <tr>\n",
       "      <th>...</th>\n",
       "      <td>...</td>\n",
       "      <td>...</td>\n",
       "      <td>...</td>\n",
       "      <td>...</td>\n",
       "    </tr>\n",
       "    <tr>\n",
       "      <th>30838</th>\n",
       "      <td>Indecent Proposal</td>\n",
       "      <td>Reality,2015</td>\n",
       "      <td>4.0</td>\n",
       "      <td>Stories of everyday individuals are featured, ...</td>\n",
       "    </tr>\n",
       "    <tr>\n",
       "      <th>30839</th>\n",
       "      <td>Marine Machines</td>\n",
       "      <td>Documentary,2005</td>\n",
       "      <td>5.4</td>\n",
       "      <td>Marine Machines has one or more episodes strea...</td>\n",
       "    </tr>\n",
       "    <tr>\n",
       "      <th>30840</th>\n",
       "      <td>Deep Wreck Mysteries</td>\n",
       "      <td>Documentary,2009</td>\n",
       "      <td>6.4</td>\n",
       "      <td>Britain and Ireland, island nations, have the ...</td>\n",
       "    </tr>\n",
       "    <tr>\n",
       "      <th>30841</th>\n",
       "      <td>State Parole</td>\n",
       "      <td>2008,Prime Video</td>\n",
       "      <td>4.6</td>\n",
       "      <td>State Parole has one or more episodes streamin...</td>\n",
       "    </tr>\n",
       "    <tr>\n",
       "      <th>30842</th>\n",
       "      <td>Rainbow Horse</td>\n",
       "      <td>Animation,Family</td>\n",
       "      <td>4.6</td>\n",
       "      <td>With \"Rainbow Horse,\" families can saddle up a...</td>\n",
       "    </tr>\n",
       "  </tbody>\n",
       "</table>\n",
       "<p>30843 rows × 4 columns</p>\n",
       "</div>"
      ],
      "text/plain": [
       "                          title                   genre  rating  \\\n",
       "0              The Green Archer  Action,Adventure,Crime     6.6   \n",
       "1      The German Weekly Review        Documentary,News     7.7   \n",
       "2                     Americana        Family,Game-Show     3.0   \n",
       "3                 Kraft Theatre                   Drama     8.4   \n",
       "4                Actor's Studio                   Drama     7.1   \n",
       "...                         ...                     ...     ...   \n",
       "30838         Indecent Proposal            Reality,2015     4.0   \n",
       "30839           Marine Machines        Documentary,2005     5.4   \n",
       "30840      Deep Wreck Mysteries        Documentary,2009     6.4   \n",
       "30841              State Parole        2008,Prime Video     4.6   \n",
       "30842             Rainbow Horse        Animation,Family     4.6   \n",
       "\n",
       "                                             description  \n",
       "0      Columbia's 12th serial of 57 total (following ...  \n",
       "1      News of the Week: German Troops Capture Rome; ...  \n",
       "2      Americana is a weekly game show which ran on N...  \n",
       "3      Kraft Television Theatre is an American drama/...  \n",
       "4      Actors Studio is an American TV show which air...  \n",
       "...                                                  ...  \n",
       "30838  Stories of everyday individuals are featured, ...  \n",
       "30839  Marine Machines has one or more episodes strea...  \n",
       "30840  Britain and Ireland, island nations, have the ...  \n",
       "30841  State Parole has one or more episodes streamin...  \n",
       "30842  With \"Rainbow Horse,\" families can saddle up a...  \n",
       "\n",
       "[30843 rows x 4 columns]"
      ]
     },
     "execution_count": 60,
     "metadata": {},
     "output_type": "execute_result"
    }
   ],
   "source": [
    "final"
   ]
  },
  {
   "cell_type": "code",
   "execution_count": 61,
   "metadata": {},
   "outputs": [],
   "source": [
    "final.to_csv(\"data\\\\final-dataset.csv\",index=False)"
   ]
  },
  {
   "cell_type": "code",
   "execution_count": 62,
   "metadata": {},
   "outputs": [
    {
     "data": {
      "text/html": [
       "<div>\n",
       "<style scoped>\n",
       "    .dataframe tbody tr th:only-of-type {\n",
       "        vertical-align: middle;\n",
       "    }\n",
       "\n",
       "    .dataframe tbody tr th {\n",
       "        vertical-align: top;\n",
       "    }\n",
       "\n",
       "    .dataframe thead th {\n",
       "        text-align: right;\n",
       "    }\n",
       "</style>\n",
       "<table border=\"1\" class=\"dataframe\">\n",
       "  <thead>\n",
       "    <tr style=\"text-align: right;\">\n",
       "      <th></th>\n",
       "      <th>title</th>\n",
       "      <th>genre</th>\n",
       "      <th>rating</th>\n",
       "      <th>description</th>\n",
       "    </tr>\n",
       "  </thead>\n",
       "  <tbody>\n",
       "    <tr>\n",
       "      <th>0</th>\n",
       "      <td>The Green Archer</td>\n",
       "      <td>Action,Adventure,Crime</td>\n",
       "      <td>6.6</td>\n",
       "      <td>Columbia's 12th serial of 57 total (following ...</td>\n",
       "    </tr>\n",
       "    <tr>\n",
       "      <th>1</th>\n",
       "      <td>The German Weekly Review</td>\n",
       "      <td>Documentary,News</td>\n",
       "      <td>7.7</td>\n",
       "      <td>News of the Week: German Troops Capture Rome; ...</td>\n",
       "    </tr>\n",
       "    <tr>\n",
       "      <th>2</th>\n",
       "      <td>Americana</td>\n",
       "      <td>Family,Game-Show</td>\n",
       "      <td>3.0</td>\n",
       "      <td>Americana is a weekly game show which ran on N...</td>\n",
       "    </tr>\n",
       "    <tr>\n",
       "      <th>3</th>\n",
       "      <td>Kraft Theatre</td>\n",
       "      <td>Drama</td>\n",
       "      <td>8.4</td>\n",
       "      <td>Kraft Television Theatre is an American drama/...</td>\n",
       "    </tr>\n",
       "    <tr>\n",
       "      <th>4</th>\n",
       "      <td>Actor's Studio</td>\n",
       "      <td>Drama</td>\n",
       "      <td>7.1</td>\n",
       "      <td>Actors Studio is an American TV show which air...</td>\n",
       "    </tr>\n",
       "    <tr>\n",
       "      <th>...</th>\n",
       "      <td>...</td>\n",
       "      <td>...</td>\n",
       "      <td>...</td>\n",
       "      <td>...</td>\n",
       "    </tr>\n",
       "    <tr>\n",
       "      <th>30838</th>\n",
       "      <td>Indecent Proposal</td>\n",
       "      <td>Reality,2015</td>\n",
       "      <td>4.0</td>\n",
       "      <td>Stories of everyday individuals are featured, ...</td>\n",
       "    </tr>\n",
       "    <tr>\n",
       "      <th>30839</th>\n",
       "      <td>Marine Machines</td>\n",
       "      <td>Documentary,2005</td>\n",
       "      <td>5.4</td>\n",
       "      <td>Marine Machines has one or more episodes strea...</td>\n",
       "    </tr>\n",
       "    <tr>\n",
       "      <th>30840</th>\n",
       "      <td>Deep Wreck Mysteries</td>\n",
       "      <td>Documentary,2009</td>\n",
       "      <td>6.4</td>\n",
       "      <td>Britain and Ireland, island nations, have the ...</td>\n",
       "    </tr>\n",
       "    <tr>\n",
       "      <th>30841</th>\n",
       "      <td>State Parole</td>\n",
       "      <td>2008,Prime Video</td>\n",
       "      <td>4.6</td>\n",
       "      <td>State Parole has one or more episodes streamin...</td>\n",
       "    </tr>\n",
       "    <tr>\n",
       "      <th>30842</th>\n",
       "      <td>Rainbow Horse</td>\n",
       "      <td>Animation,Family</td>\n",
       "      <td>4.6</td>\n",
       "      <td>With \"Rainbow Horse,\" families can saddle up a...</td>\n",
       "    </tr>\n",
       "  </tbody>\n",
       "</table>\n",
       "<p>30843 rows × 4 columns</p>\n",
       "</div>"
      ],
      "text/plain": [
       "                          title                   genre  rating  \\\n",
       "0              The Green Archer  Action,Adventure,Crime     6.6   \n",
       "1      The German Weekly Review        Documentary,News     7.7   \n",
       "2                     Americana        Family,Game-Show     3.0   \n",
       "3                 Kraft Theatre                   Drama     8.4   \n",
       "4                Actor's Studio                   Drama     7.1   \n",
       "...                         ...                     ...     ...   \n",
       "30838         Indecent Proposal            Reality,2015     4.0   \n",
       "30839           Marine Machines        Documentary,2005     5.4   \n",
       "30840      Deep Wreck Mysteries        Documentary,2009     6.4   \n",
       "30841              State Parole        2008,Prime Video     4.6   \n",
       "30842             Rainbow Horse        Animation,Family     4.6   \n",
       "\n",
       "                                             description  \n",
       "0      Columbia's 12th serial of 57 total (following ...  \n",
       "1      News of the Week: German Troops Capture Rome; ...  \n",
       "2      Americana is a weekly game show which ran on N...  \n",
       "3      Kraft Television Theatre is an American drama/...  \n",
       "4      Actors Studio is an American TV show which air...  \n",
       "...                                                  ...  \n",
       "30838  Stories of everyday individuals are featured, ...  \n",
       "30839  Marine Machines has one or more episodes strea...  \n",
       "30840  Britain and Ireland, island nations, have the ...  \n",
       "30841  State Parole has one or more episodes streamin...  \n",
       "30842  With \"Rainbow Horse,\" families can saddle up a...  \n",
       "\n",
       "[30843 rows x 4 columns]"
      ]
     },
     "execution_count": 62,
     "metadata": {},
     "output_type": "execute_result"
    }
   ],
   "source": [
    "pd.read_csv(\"data\\\\final-dataset.csv\")"
   ]
  },
  {
   "cell_type": "code",
   "execution_count": null,
   "metadata": {},
   "outputs": [],
   "source": []
  }
 ],
 "metadata": {
  "interpreter": {
   "hash": "63fd5069d213b44bf678585dea6b12cceca9941eaf7f819626cde1f2670de90d"
  },
  "kernelspec": {
   "display_name": "Python 3.9.5 64-bit",
   "name": "python3"
  },
  "language_info": {
   "codemirror_mode": {
    "name": "ipython",
    "version": 3
   },
   "file_extension": ".py",
   "mimetype": "text/x-python",
   "name": "python",
   "nbconvert_exporter": "python",
   "pygments_lexer": "ipython3",
   "version": "3.9.5"
  },
  "orig_nbformat": 4
 },
 "nbformat": 4,
 "nbformat_minor": 2
}