{
 "cells": [
  {
   "cell_type": "code",
   "execution_count": 1,
   "metadata": {},
   "outputs": [],
   "source": [
    "import numpy as np\r\n",
    "import pandas as pd"
   ]
  },
  {
   "cell_type": "code",
   "execution_count": 2,
   "metadata": {},
   "outputs": [],
   "source": [
    "columns = [\"title\",\"rating\",\"genre\",\"description\"]"
   ]
  },
  {
   "cell_type": "code",
   "execution_count": 4,
   "metadata": {},
   "outputs": [],
   "source": [
    "imdb = pd.read_table(\"data\\\\imdb-title-cast-rating-desc.tsv\",usecols=columns)\r\n",
    "netflix = pd.read_csv(\"data\\\\netflix_titles.csv\",usecols=columns)\r\n",
    "allss = pd.read_csv(\"data\\\\all_streaming_shows.csv\",usecols=columns)"
   ]
  },
  {
   "cell_type": "code",
   "execution_count": 12,
   "metadata": {},
   "outputs": [],
   "source": [
    "imdbwt = imdb[imdb[\"description\"].isna()]"
   ]
  },
  {
   "cell_type": "code",
   "execution_count": 15,
   "metadata": {},
   "outputs": [],
   "source": [
    "tt_imdbwt = set(imdbwt[\"title\"])\r\n",
    "tt_net = set(netflix[\"title\"])\r\n",
    "tt_allss = set(allss[\"title\"])"
   ]
  },
  {
   "cell_type": "code",
   "execution_count": 20,
   "metadata": {},
   "outputs": [
    {
     "name": "stdout",
     "output_type": "stream",
     "text": [
      "466\n",
      "1853\n",
      "191\n"
     ]
    }
   ],
   "source": [
    "print(len(tt_imdbwt.intersection(tt_net)))\r\n",
    "print(len(tt_imdbwt.intersection(tt_allss)))\r\n",
    "print(len(tt_imdbwt.intersection(tt_allss).intersection(tt_net)))"
   ]
  },
  {
   "cell_type": "code",
   "execution_count": null,
   "metadata": {},
   "outputs": [],
   "source": []
  }
 ],
 "metadata": {
  "interpreter": {
   "hash": "63fd5069d213b44bf678585dea6b12cceca9941eaf7f819626cde1f2670de90d"
  },
  "kernelspec": {
   "display_name": "Python 3.9.5 64-bit",
   "name": "python3"
  },
  "language_info": {
   "codemirror_mode": {
    "name": "ipython",
    "version": 3
   },
   "file_extension": ".py",
   "mimetype": "text/x-python",
   "name": "python",
   "nbconvert_exporter": "python",
   "pygments_lexer": "ipython3",
   "version": "3.9.5"
  },
  "orig_nbformat": 4
 },
 "nbformat": 4,
 "nbformat_minor": 2
}